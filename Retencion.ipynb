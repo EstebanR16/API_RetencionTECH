{
 "cells": [
  {
   "cell_type": "code",
   "execution_count": 2,
   "metadata": {},
   "outputs": [],
   "source": [
    "import matplotlib.pyplot as plt\n",
    "import pandas as pd\n",
    "import numpy as np\n",
    "import seaborn as sns"
   ]
  },
  {
   "cell_type": "code",
   "execution_count": 3,
   "metadata": {},
   "outputs": [],
   "source": [
    "data=pd.read_csv(\"retencion-por-mes.csv\")\n",
    "data2=pd.read_csv(\"retencion-por-trimestre.csv\")"
   ]
  },
  {
   "cell_type": "code",
   "execution_count": 4,
   "metadata": {},
   "outputs": [
    {
     "data": {
      "text/html": [
       "<div>\n",
       "<style scoped>\n",
       "    .dataframe tbody tr th:only-of-type {\n",
       "        vertical-align: middle;\n",
       "    }\n",
       "\n",
       "    .dataframe tbody tr th {\n",
       "        vertical-align: top;\n",
       "    }\n",
       "\n",
       "    .dataframe thead th {\n",
       "        text-align: right;\n",
       "    }\n",
       "</style>\n",
       "<table border=\"1\" class=\"dataframe\">\n",
       "  <thead>\n",
       "    <tr style=\"text-align: right;\">\n",
       "      <th></th>\n",
       "      <th>Cliente</th>\n",
       "      <th>Estado Cliente</th>\n",
       "      <th>Mes Registro</th>\n",
       "      <th>Mes de Abandono (Churn)</th>\n",
       "      <th>1/2019</th>\n",
       "      <th>2/2019</th>\n",
       "      <th>3/2019</th>\n",
       "      <th>4/2019</th>\n",
       "      <th>5/2019</th>\n",
       "      <th>6/2019</th>\n",
       "      <th>...</th>\n",
       "      <th>3/2020</th>\n",
       "      <th>4/2020</th>\n",
       "      <th>5/2020</th>\n",
       "      <th>6/2020</th>\n",
       "      <th>7/2020</th>\n",
       "      <th>8/2020</th>\n",
       "      <th>9/2020</th>\n",
       "      <th>10/2020</th>\n",
       "      <th>11/2020</th>\n",
       "      <th>12/2020</th>\n",
       "    </tr>\n",
       "  </thead>\n",
       "  <tbody>\n",
       "    <tr>\n",
       "      <th>0</th>\n",
       "      <td>George Garcia</td>\n",
       "      <td>Active</td>\n",
       "      <td>1/2019</td>\n",
       "      <td>NaN</td>\n",
       "      <td>1.0</td>\n",
       "      <td>1.0</td>\n",
       "      <td>1.0</td>\n",
       "      <td>1.0</td>\n",
       "      <td>1.0</td>\n",
       "      <td>1.0</td>\n",
       "      <td>...</td>\n",
       "      <td>1.0</td>\n",
       "      <td>1.0</td>\n",
       "      <td>1.0</td>\n",
       "      <td>1.0</td>\n",
       "      <td>1.0</td>\n",
       "      <td>1.0</td>\n",
       "      <td>1.0</td>\n",
       "      <td>1.0</td>\n",
       "      <td>1.0</td>\n",
       "      <td>1.0</td>\n",
       "    </tr>\n",
       "    <tr>\n",
       "      <th>1</th>\n",
       "      <td>James Johnson</td>\n",
       "      <td>Churned</td>\n",
       "      <td>1/2019</td>\n",
       "      <td>3/2019</td>\n",
       "      <td>1.0</td>\n",
       "      <td>1.0</td>\n",
       "      <td>NaN</td>\n",
       "      <td>NaN</td>\n",
       "      <td>NaN</td>\n",
       "      <td>NaN</td>\n",
       "      <td>...</td>\n",
       "      <td>NaN</td>\n",
       "      <td>NaN</td>\n",
       "      <td>NaN</td>\n",
       "      <td>NaN</td>\n",
       "      <td>NaN</td>\n",
       "      <td>NaN</td>\n",
       "      <td>NaN</td>\n",
       "      <td>NaN</td>\n",
       "      <td>NaN</td>\n",
       "      <td>NaN</td>\n",
       "    </tr>\n",
       "    <tr>\n",
       "      <th>2</th>\n",
       "      <td>John Williams</td>\n",
       "      <td>Churned</td>\n",
       "      <td>1/2019</td>\n",
       "      <td>8/2019</td>\n",
       "      <td>1.0</td>\n",
       "      <td>1.0</td>\n",
       "      <td>1.0</td>\n",
       "      <td>1.0</td>\n",
       "      <td>1.0</td>\n",
       "      <td>1.0</td>\n",
       "      <td>...</td>\n",
       "      <td>NaN</td>\n",
       "      <td>NaN</td>\n",
       "      <td>NaN</td>\n",
       "      <td>NaN</td>\n",
       "      <td>NaN</td>\n",
       "      <td>NaN</td>\n",
       "      <td>NaN</td>\n",
       "      <td>NaN</td>\n",
       "      <td>NaN</td>\n",
       "      <td>NaN</td>\n",
       "    </tr>\n",
       "    <tr>\n",
       "      <th>3</th>\n",
       "      <td>Robert Jones</td>\n",
       "      <td>Active</td>\n",
       "      <td>1/2019</td>\n",
       "      <td>NaN</td>\n",
       "      <td>1.0</td>\n",
       "      <td>1.0</td>\n",
       "      <td>1.0</td>\n",
       "      <td>1.0</td>\n",
       "      <td>1.0</td>\n",
       "      <td>1.0</td>\n",
       "      <td>...</td>\n",
       "      <td>1.0</td>\n",
       "      <td>1.0</td>\n",
       "      <td>1.0</td>\n",
       "      <td>1.0</td>\n",
       "      <td>1.0</td>\n",
       "      <td>1.0</td>\n",
       "      <td>1.0</td>\n",
       "      <td>1.0</td>\n",
       "      <td>1.0</td>\n",
       "      <td>1.0</td>\n",
       "    </tr>\n",
       "    <tr>\n",
       "      <th>4</th>\n",
       "      <td>Michael Brown</td>\n",
       "      <td>Active</td>\n",
       "      <td>1/2019</td>\n",
       "      <td>NaN</td>\n",
       "      <td>1.0</td>\n",
       "      <td>1.0</td>\n",
       "      <td>1.0</td>\n",
       "      <td>1.0</td>\n",
       "      <td>1.0</td>\n",
       "      <td>1.0</td>\n",
       "      <td>...</td>\n",
       "      <td>1.0</td>\n",
       "      <td>1.0</td>\n",
       "      <td>1.0</td>\n",
       "      <td>1.0</td>\n",
       "      <td>1.0</td>\n",
       "      <td>1.0</td>\n",
       "      <td>1.0</td>\n",
       "      <td>1.0</td>\n",
       "      <td>1.0</td>\n",
       "      <td>1.0</td>\n",
       "    </tr>\n",
       "  </tbody>\n",
       "</table>\n",
       "<p>5 rows × 28 columns</p>\n",
       "</div>"
      ],
      "text/plain": [
       "         Cliente Estado Cliente Mes Registro Mes de Abandono (Churn)  1/2019  \\\n",
       "0  George Garcia         Active       1/2019                     NaN     1.0   \n",
       "1  James Johnson        Churned       1/2019                  3/2019     1.0   \n",
       "2  John Williams        Churned       1/2019                  8/2019     1.0   \n",
       "3   Robert Jones         Active       1/2019                     NaN     1.0   \n",
       "4  Michael Brown         Active       1/2019                     NaN     1.0   \n",
       "\n",
       "   2/2019  3/2019  4/2019  5/2019  6/2019  ...  3/2020  4/2020  5/2020  \\\n",
       "0     1.0     1.0     1.0     1.0     1.0  ...     1.0     1.0     1.0   \n",
       "1     1.0     NaN     NaN     NaN     NaN  ...     NaN     NaN     NaN   \n",
       "2     1.0     1.0     1.0     1.0     1.0  ...     NaN     NaN     NaN   \n",
       "3     1.0     1.0     1.0     1.0     1.0  ...     1.0     1.0     1.0   \n",
       "4     1.0     1.0     1.0     1.0     1.0  ...     1.0     1.0     1.0   \n",
       "\n",
       "   6/2020  7/2020  8/2020  9/2020  10/2020  11/2020  12/2020  \n",
       "0     1.0     1.0     1.0     1.0      1.0      1.0      1.0  \n",
       "1     NaN     NaN     NaN     NaN      NaN      NaN      NaN  \n",
       "2     NaN     NaN     NaN     NaN      NaN      NaN      NaN  \n",
       "3     1.0     1.0     1.0     1.0      1.0      1.0      1.0  \n",
       "4     1.0     1.0     1.0     1.0      1.0      1.0      1.0  \n",
       "\n",
       "[5 rows x 28 columns]"
      ]
     },
     "execution_count": 4,
     "metadata": {},
     "output_type": "execute_result"
    }
   ],
   "source": [
    "data.head()"
   ]
  },
  {
   "cell_type": "code",
   "execution_count": 5,
   "metadata": {},
   "outputs": [
    {
     "name": "stdout",
     "output_type": "stream",
     "text": [
      "<class 'pandas.core.frame.DataFrame'>\n",
      "RangeIndex: 330 entries, 0 to 329\n",
      "Data columns (total 28 columns):\n",
      " #   Column                   Non-Null Count  Dtype  \n",
      "---  ------                   --------------  -----  \n",
      " 0   Cliente                  330 non-null    object \n",
      " 1   Estado Cliente           330 non-null    object \n",
      " 2   Mes Registro             330 non-null    object \n",
      " 3   Mes de Abandono (Churn)  99 non-null     object \n",
      " 4   1/2019                   11 non-null     float64\n",
      " 5   2/2019                   24 non-null     float64\n",
      " 6   3/2019                   36 non-null     float64\n",
      " 7   4/2019                   50 non-null     float64\n",
      " 8   5/2019                   62 non-null     float64\n",
      " 9   6/2019                   71 non-null     float64\n",
      " 10  7/2019                   82 non-null     float64\n",
      " 11  8/2019                   83 non-null     float64\n",
      " 12  9/2019                   85 non-null     float64\n",
      " 13  10/2019                  97 non-null     float64\n",
      " 14  11/2019                  107 non-null    float64\n",
      " 15  12/2019                  112 non-null    float64\n",
      " 16  1/2020                   129 non-null    float64\n",
      " 17  2/2020                   136 non-null    float64\n",
      " 18  3/2020                   144 non-null    float64\n",
      " 19  4/2020                   157 non-null    float64\n",
      " 20  5/2020                   175 non-null    float64\n",
      " 21  6/2020                   189 non-null    float64\n",
      " 22  7/2020                   207 non-null    float64\n",
      " 23  8/2020                   230 non-null    float64\n",
      " 24  9/2020                   220 non-null    float64\n",
      " 25  10/2020                  227 non-null    float64\n",
      " 26  11/2020                  228 non-null    float64\n",
      " 27  12/2020                  233 non-null    float64\n",
      "dtypes: float64(24), object(4)\n",
      "memory usage: 72.3+ KB\n"
     ]
    }
   ],
   "source": [
    "# Se pueden observar los datos y el tipo de dato de cada columna\n",
    "data.info()"
   ]
  },
  {
   "cell_type": "markdown",
   "metadata": {},
   "source": [
    "Cambiamos nuestras variables categoricas: object -->  category\n",
    "\n",
    "Vamos a relizar una categorizacion de los datos de los clientes que pagan su renta mensual y los que no, para que se pueda realizar un mejor analisis con Pandas."
   ]
  },
  {
   "cell_type": "code",
   "execution_count": 6,
   "metadata": {},
   "outputs": [],
   "source": [
    "data['Estado Cliente']= data['Estado Cliente'].astype('category')"
   ]
  },
  {
   "cell_type": "markdown",
   "metadata": {},
   "source": [
    "Es importante resaltar que si: \n",
    "\n",
    "Mes Abandono = NUll --> sigue activo\n",
    "\n",
    "Mes Abandono = 1 --> inactivo"
   ]
  },
  {
   "cell_type": "code",
   "execution_count": 7,
   "metadata": {},
   "outputs": [],
   "source": [
    "# Convertimos la columna 'Mes de Abandono (Churn)' y 'Mes Registro' en un formato de fecha\n",
    "data['Mes de Abandono (Churn)'] = pd.to_datetime(data['Mes de Abandono (Churn)'])\n",
    "data['Mes Registro'] = pd.to_datetime(data['Mes Registro'])\n",
    "\n",
    "# Truncar las columnas al mes --> y se vuelve a convertir los datos a tipo object\n",
    "data['Mes de Abandono (Churn)'] = data['Mes de Abandono (Churn)'].dt.strftime('%Y-%m')\n",
    "data['Mes Registro'] = data['Mes Registro'].dt.strftime('%Y-%m')"
   ]
  },
  {
   "cell_type": "code",
   "execution_count": 8,
   "metadata": {},
   "outputs": [
    {
     "name": "stdout",
     "output_type": "stream",
     "text": [
      "Clientes por Mes de Inicio:\n",
      "Mes Registro\n",
      "2019-01    11\n",
      "2019-02    13\n",
      "2019-03    13\n",
      "2019-04    15\n",
      "2019-05    13\n",
      "2019-06    11\n",
      "2019-07    11\n",
      "2019-08     4\n",
      "2019-09     8\n",
      "2019-10    15\n",
      "2019-11    13\n",
      "2019-12     6\n",
      "2020-01    21\n",
      "2020-02    11\n",
      "2020-03    11\n",
      "2020-04    16\n",
      "2020-05    25\n",
      "2020-06    22\n",
      "2020-07    21\n",
      "2020-08    27\n",
      "2020-09     5\n",
      "2020-10    12\n",
      "2020-11    10\n",
      "2020-12    16\n",
      "dtype: int64\n",
      "\n",
      "Clientes por Mes de Fin:\n",
      "Mes de Abandono (Churn)\n",
      "2019-03     1\n",
      "2019-04     1\n",
      "2019-05     1\n",
      "2019-06     2\n",
      "2019-08     3\n",
      "2019-09     6\n",
      "2019-10     3\n",
      "2019-11     3\n",
      "2019-12     1\n",
      "2020-01     4\n",
      "2020-02     4\n",
      "2020-03     3\n",
      "2020-04     4\n",
      "2020-05     7\n",
      "2020-06     8\n",
      "2020-07     3\n",
      "2020-08     4\n",
      "2020-09    15\n",
      "2020-10     6\n",
      "2020-11     9\n",
      "2020-12    11\n",
      "dtype: int64\n"
     ]
    }
   ],
   "source": [
    "# Cuenta el número de clientes por mes de inicio\n",
    "clientes_por_mes_inicio = data.groupby('Mes Registro').size()\n",
    "\n",
    "# Cuenta el número de clientes por mes de fin\n",
    "clientes_por_mes_fin = data.groupby('Mes de Abandono (Churn)').size()\n",
    "\n",
    "# Ordena los datos por fecha\n",
    "clientes_por_mes_fin = clientes_por_mes_fin.sort_index()\n",
    "\n",
    "# Imprime los resultados\n",
    "print(\"Clientes por Mes de Inicio:\")\n",
    "print(clientes_por_mes_inicio)\n",
    "print(\"\\nClientes por Mes de Fin:\")\n",
    "print(clientes_por_mes_fin)\n"
   ]
  },
  {
   "cell_type": "code",
   "execution_count": 9,
   "metadata": {},
   "outputs": [
    {
     "data": {
      "image/png": "[encoded data removed]",
      "text/plain": [
       "<Figure size 1000x600 with 2 Axes>"
      ]
     },
     "metadata": {},
     "output_type": "display_data"
    }
   ],
   "source": [
    "# Crea un gráfico de barras para mostrar el número de clientes por mes\n",
    "plt.figure(figsize=(10, 6))\n",
    "\n",
    "# Subplot para el gráfico de clientes activos por mes\n",
    "plt.subplot(2, 1, 1)\n",
    "clientes_por_mes_inicio.plot(kind='bar', color='skyblue')\n",
    "plt.xlabel('Mes')\n",
    "plt.ylabel('Número de Clientes')\n",
    "plt.title('Clientes activos')\n",
    "plt.xticks(rotation=45)\n",
    "\n",
    "\n",
    "# Contar el número de valores NaN en cada columna de los meses de abandono\n",
    "clientes_abandono_por_mes = clientes_por_mes_fin\n",
    "\n",
    "# Subplot para el gráfico de clientes que abandonaron mes a mes\n",
    "plt.subplot(2, 1, 2)\n",
    "clientes_abandono_por_mes.plot(kind='bar', color='yellow')\n",
    "plt.title('Clientes que abandonaron')\n",
    "plt.xlabel('Mes')\n",
    "plt.ylabel('Número de Clientes')\n",
    "plt.xticks(rotation=45)  # Rotar los nombres de los meses para mejor visualización\n",
    "\n",
    "# Ajustar el espacio entre los subplots\n",
    "plt.tight_layout()\n",
    "\n",
    "# Mostrar la figura con los dos subplots\n",
    "plt.show()\n"
   ]
  },
  {
   "cell_type": "code",
   "execution_count": 11,
   "metadata": {},
   "outputs": [
    {
     "data": {
      "image/png": "[encoded data removed]",
      "text/plain": [
       "<Figure size 900x500 with 1 Axes>"
      ]
     },
     "metadata": {},
     "output_type": "display_data"
    }
   ],
   "source": [
    "# Crea una figura y ejes\n",
    "plt.figure(figsize=(9, 5))\n",
    "\n",
    "# Graficar el número de clientes activos por mes\n",
    "plt.bar(clientes_por_mes_inicio.index, clientes_por_mes_inicio.values, color='skyblue', label='Clientes activos')\n",
    "\n",
    "# Graficar el número de clientes que abandonaron mes a mes, superponiendo el mismo eje\n",
    "plt.bar(clientes_abandono_por_mes.index, clientes_abandono_por_mes.values, color='orange', alpha=0.7, label='Clientes que abandonaron')\n",
    "\n",
    "# Establecer etiquetas y título\n",
    "plt.xlabel('Mes')\n",
    "plt.ylabel('Número de Clientes')\n",
    "plt.title('Clientes Activos vs Clientes que Abandonaron')\n",
    "plt.xticks(rotation=45)\n",
    "plt.legend()\n",
    "\n",
    "# Mostrar el gráfico\n",
    "plt.tight_layout()\n",
    "plt.show()\n"
   ]
  },
  {
   "cell_type": "code",
   "execution_count": 12,
   "metadata": {},
   "outputs": [],
   "source": [
    "def Clientes_por_Mes(mes: str):\n",
    "    try:\n",
    "        # Verifica si la columna mes existe en el DataFrame\n",
    "        if mes not in data.columns:\n",
    "            raise KeyError(\"El nombre de la columna '{}' no es válido. Por favor, asegúrate de ingresar el nombre correcto de la columna. \".format(mes))\n",
    "\n",
    "        # Filtra el DataFrame por el mes especificado\n",
    "        data_filtered = data[mes]\n",
    "\n",
    "        if not data_filtered.empty:\n",
    "            # Realiza una función de agregación para el mes especificado\n",
    "            numero_clientes = data_filtered.sum()\n",
    "            return {\n",
    "                \"El número de clientes para el mes {} es:\".format(mes): numero_clientes\n",
    "            }\n",
    "        else:\n",
    "            return {\n",
    "                \"El número de clientes para el mes {} es:\".format(mes): 0  # Si no hay clientes, el número es cero\n",
    "            }\n",
    "    except KeyError:\n",
    "        # Si hay un error de clave (KeyError), proporciona mensajes de error\n",
    "        # Calculamos el mínimo y el máximo de las fechas si las columnas existen\n",
    "        if 'Mes Registro' in data.columns and 'Mes de Abandono (Churn)' in data.columns:\n",
    "            fecha_minima = data['Mes Registro'].min()\n",
    "            fecha_maxima = data['Mes de Abandono (Churn)'].max()\n",
    "\n",
    "            # Truncamos la fecha a Año-Mes\n",
    "            fecha_minima_truncada = fecha_minima.strftime('%Y-%m')\n",
    "            fecha_maxima_truncada = fecha_maxima.strftime('%Y-%m')\n",
    "\n",
    "            \n",
    "            print(\"El nombre de la columna '{}' no es válido. Por favor, asegúrate de ingresar el nombre correcto de la columna.\".format(mes))\n",
    "            print(\"\\nEl formato de las fechas es: M/YYYY. Los registros comienzan en {} y terminan en {}.\".format(fecha_minima_truncada, fecha_maxima_truncada))\n",
    "\n",
    "        else:\n",
    "            \n",
    "            print(\"La columna a la que intentas ingresar no es valida\")\n",
    "        \n",
    "\n",
    "#Debe devolver el número de clientes para el mes especificado.\n",
    "#Ejemplo de retorno: {\"El número de clientes para el mes X es\" : 11}"
   ]
  },
  {
   "cell_type": "code",
   "execution_count": 13,
   "metadata": {},
   "outputs": [
    {
     "name": "stdout",
     "output_type": "stream",
     "text": [
      "{'El número de clientes para el mes 2/2019 es:': 24.0}\n"
     ]
    }
   ],
   "source": [
    "# Ejemplo de uso\n",
    "Numero_de_clientes = Clientes_por_Mes('2/2019')\n",
    "print(Numero_de_clientes)"
   ]
  },
  {
   "cell_type": "code",
   "execution_count": 19,
   "metadata": {},
   "outputs": [],
   "source": [
    "def Mes_mayorClientes(data):\n",
    "    # Diccionario para almacenar el recuento de nuevos clientes por mes\n",
    "    nuevos_clientes_por_mes = {}\n",
    "\n",
    "    # Iterar sobre las columnas del DataFrame para contar los nuevos clientes por mes\n",
    "    for i, columna in enumerate(data.columns[4:], start=1):\n",
    "        # Filtrar clientes nuevos para el mes actual\n",
    "        clientes_mes_actual = data[columna].dropna()\n",
    "        # Excluir clientes que ya estaban registrados en el mes anterior (si corresponde)\n",
    "        if i > 1:  # Excluir el primer mes\n",
    "            clientes_mes_anterior = data[data.columns[i - 1]].dropna()\n",
    "            clientes_mes_actual = clientes_mes_actual[~clientes_mes_actual.isin(clientes_mes_anterior)]\n",
    "        # Contar el número de nuevos clientes para el mes actual\n",
    "        count = len(clientes_mes_actual)\n",
    "        # Almacenar el recuento en el diccionario\n",
    "        nuevos_clientes_por_mes[columna] = count\n",
    "\n",
    "    # Encontrar el mes con el segundo mayor recuento de nuevos clientes\n",
    "    mes_mas_clientes = sorted(nuevos_clientes_por_mes, key=nuevos_clientes_por_mes.get, reverse=True)[1]\n",
    "    num_clientes = nuevos_clientes_por_mes[mes_mas_clientes]\n",
    "\n",
    "    return {\n",
    "        \"Mes con mayor número de nuevos clientes\": mes_mas_clientes,\n",
    "        \"Número de nuevos clientes en el mes\": num_clientes\n",
    "    }\n"
   ]
  },
  {
   "cell_type": "code",
   "execution_count": 17,
   "metadata": {},
   "outputs": [
    {
     "name": "stdout",
     "output_type": "stream",
     "text": [
      "{'Mes con mayor número de nuevos clientes': '3/2019', 'Número de nuevos clientes en el mes': 36}\n"
     ]
    }
   ],
   "source": [
    "# Llamada a la función con tu DataFrame\n",
    "MayorNuevos = Mes_mayorClientes(data)\n",
    "print(MayorNuevos)"
   ]
  },
  {
   "cell_type": "code",
   "execution_count": 1,
   "metadata": {},
   "outputs": [],
   "source": [
    "def Mes_mayor_abandono(data):\n",
    "    # Diccionario para almacenar el recuento de abandono de clientes por mes\n",
    "    abandono_por_mes = {}\n",
    "\n",
    "    # Iterar sobre las columnas del DataFrame para contar el abandono de clientes por mes\n",
    "    for i, columna in enumerate(data.columns[4:], start=1):  # Excluir el primer mes\n",
    "        # Filtrar clientes activos para el mes actual\n",
    "        clientes_mes_actual = data[data[columna].isnull()]\n",
    "        #clientes_mes_actual = data[columna].dropna()\n",
    "        # Filtrar clientes activos para el mes anterior\n",
    "        if i > 1:\n",
    "            clientes_mes_anterior = data[data[data.columns[i-1]].notna()]\n",
    "            # Excluir clientes que ya habían abandonado en el mes anterior\n",
    "            clientes_mes_actual = clientes_mes_actual[~clientes_mes_actual.index.isin(clientes_mes_anterior.index)]\n",
    "        # Contar el número de clientes abandonados para el mes actual\n",
    "        count = len(clientes_mes_actual)\n",
    "        # Almacenar el recuento en el diccionario\n",
    "        abandono_por_mes[columna] = count\n",
    "\n",
    "    # Encontrar el mes con el mayor recuento de abandono de clientes\n",
    "    mes_con_mayor_abandono = max(abandono_por_mes, key=abandono_por_mes.get)\n",
    "    num_clientes_abandonados = abandono_por_mes[mes_con_mayor_abandono]\n",
    "\n",
    "    return {\n",
    "        \"Mes con mayor abandono de clientes\": mes_con_mayor_abandono,\n",
    "        \"Número de clientes abandonados en ese mes\": num_clientes_abandonados\n",
    "    }"
   ]
  },
  {
   "cell_type": "code",
   "execution_count": 81,
   "metadata": {},
   "outputs": [
    {
     "name": "stdout",
     "output_type": "stream",
     "text": [
      "{'Mes con mayor abandono de clientes': '8/2020', 'Número de clientes abandonados en ese mes': 93}\n"
     ]
    }
   ],
   "source": [
    "# Llamada a la función con tu DataFrame\n",
    "resultado_abandono = Mes_mayor_abandono(data)\n",
    "print(resultado_abandono)"
   ]
  },
  {
   "cell_type": "code",
   "execution_count": 21,
   "metadata": {},
   "outputs": [],
   "source": [
    "def Porcentaje_Retencion_Abandono(data):\n",
    "    # Inicializar listas para almacenar los porcentajes de retención y abandono mes a mes\n",
    "    porcentajes_retencion = []\n",
    "    porcentajes_abandono = []\n",
    "\n",
    "    # Iterar sobre las columnas del DataFrame\n",
    "    for columna in data.columns[4:]:\n",
    "        # Filtrar clientes activos y churned para el mes actual\n",
    "        clientes_activos = data[data[columna] == 1] #Esta activo cuando es 1\n",
    "        clientes_inactivos = data[data[columna].isna()] #inactivo cuando es NaN\n",
    "\n",
    "        # Contar el número de clientes activos y abandonados para el mes actual\n",
    "        count_activos = len(clientes_activos)\n",
    "        count_abandonados = len(clientes_inactivos)\n",
    "\n",
    "        # Calcular el porcentaje de retención y abandono para el mes actual\n",
    "        total_clientes_mes = count_activos + count_abandonados\n",
    "        porcentaje_retencion_mes = (count_activos / total_clientes_mes) * 100\n",
    "        porcentaje_abandono_mes = (count_abandonados / total_clientes_mes) * 100\n",
    "\n",
    "        # Almacenar los porcentajes mes a mes\n",
    "        porcentajes_retencion.append(porcentaje_retencion_mes)\n",
    "        porcentajes_abandono.append(porcentaje_abandono_mes)\n",
    "\n",
    "    # Calcular el promedio de los porcentajes de retención y abandono de todos los meses\n",
    "    promedio_retencion = sum(porcentajes_retencion) / len(porcentajes_retencion)\n",
    "    promedio_abandono = sum(porcentajes_abandono) / len(porcentajes_abandono)\n",
    "\n",
    "    return {\n",
    "        \"Porcentaje promedio de retención de clientes\": promedio_retencion,\n",
    "        \"Porcentaje promedio de abandono de clientes\": promedio_abandono\n",
    "    }"
   ]
  },
  {
   "cell_type": "code",
   "execution_count": 24,
   "metadata": {},
   "outputs": [
    {
     "name": "stdout",
     "output_type": "stream",
     "text": [
      "{'Porcentaje promedio de retención de clientes': 39.07828282828283, 'Porcentaje promedio de abandono de clientes': 60.921717171717184}\n"
     ]
    }
   ],
   "source": [
    "# Llamada a la función con tu DataFrame\n",
    "resultado_2 = Porcentaje_Retencion_Abandono(data)\n",
    "print(resultado_2)"
   ]
  }
 ],
 "metadata": {
  "kernelspec": {
   "display_name": "Python 3",
   "language": "python",
   "name": "python3"
  },
  "language_info": {
   "codemirror_mode": {
    "name": "ipython",
    "version": 3
   },
   "file_extension": ".py",
   "mimetype": "text/x-python",
   "name": "python",
   "nbconvert_exporter": "python",
   "pygments_lexer": "ipython3",
   "version": "3.10.6"
  }
 },
 "nbformat": 4,
 "nbformat_minor": 2
}
